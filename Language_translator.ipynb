{
  "nbformat": 4,
  "nbformat_minor": 0,
  "metadata": {
    "colab": {
      "name": "Language_translator.ipynb",
      "version": "0.3.2",
      "provenance": [],
      "include_colab_link": true
    },
    "kernelspec": {
      "name": "python3",
      "display_name": "Python 3"
    },
    "accelerator": "GPU"
  },
  "cells": [
    {
      "cell_type": "markdown",
      "metadata": {
        "id": "view-in-github",
        "colab_type": "text"
      },
      "source": [
        "<a href=\"https://colab.research.google.com/github/plaban1981/LanguageTranslator/blob/master/Language_translator.ipynb\" target=\"_parent\"><img src=\"https://colab.research.google.com/assets/colab-badge.svg\" alt=\"Open In Colab\"/></a>"
      ]
    },
    {
      "metadata": {
        "id": "qATmBKlO375x",
        "colab_type": "code",
        "colab": {
          "base_uri": "https://localhost:8080/",
          "height": 34
        },
        "outputId": "11e2cde9-7917-4647-a0ee-5b20721ee6d1"
      },
      "cell_type": "code",
      "source": [
        "sample_data/fra.txt"
      ],
      "execution_count": 3,
      "outputs": [
        {
          "output_type": "stream",
          "text": [
            "/content\n"
          ],
          "name": "stdout"
        }
      ]
    },
    {
      "metadata": {
        "id": "YSM3f0iy5Hhv",
        "colab_type": "text"
      },
      "cell_type": "markdown",
      "source": [
        "**1**) Turn the sentences into 3 Numpy arrays, encoder_input_data, decoder_input_data, decoder_target_data:\n",
        "\n",
        "encoder_input_data is a 3D array of shape (num_pairs, max_english_sentence_length, num_english_characters) containing a one-hot vectorization of the English sentences\n",
        "decoder_input_data is a 3D array of shape (num_pairs, max_french_sentence_length, num_french_characters) containing a one-hot vectorization of the French sentences\n",
        "decoder_target_data is the same as decoder_input_data but offset by one timestep. decoder_target_data[:, t, :] will be the same as decoder_input_data[:, t + 1, :]"
      ]
    },
    {
      "metadata": {
        "id": "84lpuRf05LJX",
        "colab_type": "text"
      },
      "cell_type": "markdown",
      "source": [
        "**2**) Train a basic LSTM-based Seq2Seq model to predict decoder_target_data given encoder_input_data and decoder_input_data"
      ]
    },
    {
      "metadata": {
        "id": "DVH0Ylkb7K5P",
        "colab_type": "text"
      },
      "cell_type": "markdown",
      "source": [
        "**3**) Decode some sentences to check that the model is working (i.e. turn samples from encoder_input_data into corresponding samples from decoder_target_data)."
      ]
    },
    {
      "metadata": {
        "id": "TqKx_Njn8Cye",
        "colab_type": "code",
        "colab": {}
      },
      "cell_type": "code",
      "source": [
        "\n",
        "# import modules\n",
        "from keras.models import Model\n",
        "from keras.layers import Input, LSTM, Dense\n",
        "import numpy as np"
      ],
      "execution_count": 0,
      "outputs": []
    },
    {
      "metadata": {
        "id": "MelgIsal8k9q",
        "colab_type": "code",
        "colab": {}
      },
      "cell_type": "code",
      "source": [
        "batch_size = 64  # Batch size for training.\n",
        "epochs = 100  # Number of epochs to train for.\n",
        "latent_dim = 256  # Latent dimensionality of the encoding space.\n",
        "num_samples = 10000  # Number of samples to train on.\n",
        "# Path to the data txt file on disk.\n",
        "data_path = 'sample_data/fra.txt'\n"
      ],
      "execution_count": 0,
      "outputs": []
    },
    {
      "metadata": {
        "id": "O36XG3wc8w5T",
        "colab_type": "code",
        "colab": {}
      },
      "cell_type": "code",
      "source": [
        "# Vectorize the data.\n",
        "input_texts = []\n",
        "target_texts = []\n",
        "input_characters = set()\n",
        "target_characters = set()\n",
        "\n",
        "#read the input file \n",
        "with open(data_path, 'r', encoding='utf-8') as f:\n",
        "    lines = f.read().split('\\n')\n",
        "for line in lines[: min(num_samples, len(lines) - 1)]:\n",
        "    input_text, target_text = line.split('\\t')\n",
        "    # We use \"tab\" as the \"start sequence\" character\n",
        "    # for the targets, and \"\\n\" as \"end sequence\" character.\n",
        "    target_text = '\\t' + target_text + '\\n'\n",
        "    input_texts.append(input_text)\n",
        "    target_texts.append(target_text)\n",
        "    for char in input_text:\n",
        "        if char not in input_characters:\n",
        "            input_characters.add(char)\n",
        "    for char in target_text:\n",
        "        if char not in target_characters:\n",
        "            target_characters.add(char)"
      ],
      "execution_count": 0,
      "outputs": []
    },
    {
      "metadata": {
        "id": "NXIyg6Gr-VPU",
        "colab_type": "code",
        "colab": {
          "base_uri": "https://localhost:8080/",
          "height": 187
        },
        "outputId": "0676cab6-1662-49d7-e837-0b860dd9400f"
      },
      "cell_type": "code",
      "source": [
        "input_texts[:10]"
      ],
      "execution_count": 12,
      "outputs": [
        {
          "output_type": "execute_result",
          "data": {
            "text/plain": [
              "['Go.',\n",
              " 'Hi.',\n",
              " 'Run!',\n",
              " 'Run!',\n",
              " 'Wow!',\n",
              " 'Fire!',\n",
              " 'Help!',\n",
              " 'Jump.',\n",
              " 'Stop!',\n",
              " 'Stop!']"
            ]
          },
          "metadata": {
            "tags": []
          },
          "execution_count": 12
        }
      ]
    },
    {
      "metadata": {
        "id": "q-n_UDFf-g_f",
        "colab_type": "code",
        "colab": {
          "base_uri": "https://localhost:8080/",
          "height": 187
        },
        "outputId": "7c375d54-343f-487f-9b56-2dd07930aaee"
      },
      "cell_type": "code",
      "source": [
        "target_texts[:10]"
      ],
      "execution_count": 13,
      "outputs": [
        {
          "output_type": "execute_result",
          "data": {
            "text/plain": [
              "['\\tVa !\\n',\n",
              " '\\tSalut !\\n',\n",
              " '\\tCours\\u202f!\\n',\n",
              " '\\tCourez\\u202f!\\n',\n",
              " '\\tÇa alors\\u202f!\\n',\n",
              " '\\tAu feu !\\n',\n",
              " \"\\tÀ l'aide\\u202f!\\n\",\n",
              " '\\tSaute.\\n',\n",
              " '\\tÇa suffit\\u202f!\\n',\n",
              " '\\tStop\\u202f!\\n']"
            ]
          },
          "metadata": {
            "tags": []
          },
          "execution_count": 13
        }
      ]
    },
    {
      "metadata": {
        "id": "xrEUdeJs91Me",
        "colab_type": "code",
        "colab": {
          "base_uri": "https://localhost:8080/",
          "height": 34
        },
        "outputId": "2bd2be42-2097-490b-d98f-b9daaaf0487b"
      },
      "cell_type": "code",
      "source": [
        "len(input_characters)"
      ],
      "execution_count": 10,
      "outputs": [
        {
          "output_type": "execute_result",
          "data": {
            "text/plain": [
              "69"
            ]
          },
          "metadata": {
            "tags": []
          },
          "execution_count": 10
        }
      ]
    },
    {
      "metadata": {
        "id": "On5vscNL-KmW",
        "colab_type": "code",
        "colab": {
          "base_uri": "https://localhost:8080/",
          "height": 34
        },
        "outputId": "27248c74-d993-4cb3-aa29-8609f1c0c285"
      },
      "cell_type": "code",
      "source": [
        "len(target_characters)"
      ],
      "execution_count": 11,
      "outputs": [
        {
          "output_type": "execute_result",
          "data": {
            "text/plain": [
              "93"
            ]
          },
          "metadata": {
            "tags": []
          },
          "execution_count": 11
        }
      ]
    },
    {
      "metadata": {
        "id": "U_eIAGKa-tbx",
        "colab_type": "code",
        "colab": {}
      },
      "cell_type": "code",
      "source": [
        "# set the shape of encoder input data and decoder input data\n",
        "input_characters = sorted(list(input_characters))\n",
        "target_characters = sorted(list(target_characters))\n",
        "num_encoder_tokens = len(input_characters)\n",
        "num_decoder_tokens = len(target_characters)\n",
        "max_encoder_seq_length = max([len(txt) for txt in input_texts])\n",
        "max_decoder_seq_length = max([len(txt) for txt in target_texts])"
      ],
      "execution_count": 0,
      "outputs": []
    },
    {
      "metadata": {
        "id": "GIAUKX79_AJL",
        "colab_type": "code",
        "colab": {
          "base_uri": "https://localhost:8080/",
          "height": 102
        },
        "outputId": "ee643664-001d-4290-91ba-cbb570d17cf4"
      },
      "cell_type": "code",
      "source": [
        "print('Number of samples:', len(input_texts))\n",
        "print('Number of unique input tokens:', num_encoder_tokens)\n",
        "print('Number of unique output tokens:', num_decoder_tokens)\n",
        "print('Max sequence length for inputs:', max_encoder_seq_length)\n",
        "print('Max sequence length for outputs:', max_decoder_seq_length)"
      ],
      "execution_count": 15,
      "outputs": [
        {
          "output_type": "stream",
          "text": [
            "Number of samples: 10000\n",
            "Number of unique input tokens: 69\n",
            "Number of unique output tokens: 93\n",
            "Max sequence length for inputs: 16\n",
            "Max sequence length for outputs: 59\n"
          ],
          "name": "stdout"
        }
      ]
    },
    {
      "metadata": {
        "id": "NehC-2HP_VMP",
        "colab_type": "code",
        "colab": {}
      },
      "cell_type": "code",
      "source": [
        "input_token_index = dict([(char, i) for i, char in enumerate(input_characters)])\n",
        "target_token_index = dict([(char, i) for i, char in enumerate(target_characters)])\n"
      ],
      "execution_count": 0,
      "outputs": []
    },
    {
      "metadata": {
        "id": "HHaJvy16_us-",
        "colab_type": "code",
        "colab": {
          "base_uri": "https://localhost:8080/",
          "height": 71
        },
        "outputId": "c6432cba-d58b-4932-bf39-b2475b9cd437"
      },
      "cell_type": "code",
      "source": [
        "print(\"input_token_index : \",input_token_index)\n",
        "print(\"target_token_index : \",target_token_index)"
      ],
      "execution_count": 19,
      "outputs": [
        {
          "output_type": "stream",
          "text": [
            "input_token_index :  {' ': 0, '!': 1, '$': 2, '%': 3, '&': 4, \"'\": 5, ',': 6, '-': 7, '.': 8, '0': 9, '1': 10, '3': 11, '5': 12, '6': 13, '7': 14, '8': 15, '9': 16, ':': 17, '?': 18, 'A': 19, 'B': 20, 'C': 21, 'D': 22, 'E': 23, 'F': 24, 'G': 25, 'H': 26, 'I': 27, 'J': 28, 'K': 29, 'L': 30, 'M': 31, 'N': 32, 'O': 33, 'P': 34, 'Q': 35, 'R': 36, 'S': 37, 'T': 38, 'U': 39, 'V': 40, 'W': 41, 'Y': 42, 'a': 43, 'b': 44, 'c': 45, 'd': 46, 'e': 47, 'f': 48, 'g': 49, 'h': 50, 'i': 51, 'j': 52, 'k': 53, 'l': 54, 'm': 55, 'n': 56, 'o': 57, 'p': 58, 'q': 59, 'r': 60, 's': 61, 't': 62, 'u': 63, 'v': 64, 'w': 65, 'x': 66, 'y': 67, 'z': 68}\n",
            "target_token_index :  {'\\t': 0, '\\n': 1, ' ': 2, '!': 3, '$': 4, '%': 5, '&': 6, \"'\": 7, '(': 8, ')': 9, ',': 10, '-': 11, '.': 12, '0': 13, '1': 14, '3': 15, '5': 16, '8': 17, '9': 18, ':': 19, '?': 20, 'A': 21, 'B': 22, 'C': 23, 'D': 24, 'E': 25, 'F': 26, 'G': 27, 'H': 28, 'I': 29, 'J': 30, 'K': 31, 'L': 32, 'M': 33, 'N': 34, 'O': 35, 'P': 36, 'Q': 37, 'R': 38, 'S': 39, 'T': 40, 'U': 41, 'V': 42, 'Y': 43, 'a': 44, 'b': 45, 'c': 46, 'd': 47, 'e': 48, 'f': 49, 'g': 50, 'h': 51, 'i': 52, 'j': 53, 'k': 54, 'l': 55, 'm': 56, 'n': 57, 'o': 58, 'p': 59, 'q': 60, 'r': 61, 's': 62, 't': 63, 'u': 64, 'v': 65, 'w': 66, 'x': 67, 'y': 68, 'z': 69, '\\xa0': 70, '«': 71, '»': 72, 'À': 73, 'Ç': 74, 'É': 75, 'Ê': 76, 'à': 77, 'â': 78, 'ç': 79, 'è': 80, 'é': 81, 'ê': 82, 'ë': 83, 'î': 84, 'ï': 85, 'ô': 86, 'ù': 87, 'û': 88, 'œ': 89, '\\u2009': 90, '’': 91, '\\u202f': 92}\n"
          ],
          "name": "stdout"
        }
      ]
    },
    {
      "metadata": {
        "id": "jhKA4JESAJzf",
        "colab_type": "code",
        "colab": {}
      },
      "cell_type": "code",
      "source": [
        "#initialize input encoder decoder and target decoder vectors\n",
        "encoder_input_data = np.zeros(\n",
        "    (len(input_texts), max_encoder_seq_length, num_encoder_tokens),\n",
        "    dtype='float32')\n",
        "#\n",
        "decoder_input_data = np.zeros(\n",
        "    (len(input_texts), max_decoder_seq_length, num_decoder_tokens),\n",
        "    dtype='float32')\n",
        "#\n",
        "decoder_target_data = np.zeros(\n",
        "    (len(input_texts), max_decoder_seq_length, num_decoder_tokens),\n",
        "    dtype='float32')"
      ],
      "execution_count": 0,
      "outputs": []
    },
    {
      "metadata": {
        "id": "Cb6AXXimAnS3",
        "colab_type": "code",
        "colab": {
          "base_uri": "https://localhost:8080/",
          "height": 34
        },
        "outputId": "d37b1885-6cfa-45ae-db8f-9ed8df2ead19"
      },
      "cell_type": "code",
      "source": [
        "encoder_input_data.shape"
      ],
      "execution_count": 24,
      "outputs": [
        {
          "output_type": "execute_result",
          "data": {
            "text/plain": [
              "(10000, 16, 69)"
            ]
          },
          "metadata": {
            "tags": []
          },
          "execution_count": 24
        }
      ]
    },
    {
      "metadata": {
        "id": "pisbZYZRAu9_",
        "colab_type": "code",
        "colab": {
          "base_uri": "https://localhost:8080/",
          "height": 34
        },
        "outputId": "b8019b13-66c5-404f-c593-db60b2257ad3"
      },
      "cell_type": "code",
      "source": [
        "decoder_input_data.shape"
      ],
      "execution_count": 25,
      "outputs": [
        {
          "output_type": "execute_result",
          "data": {
            "text/plain": [
              "(10000, 59, 93)"
            ]
          },
          "metadata": {
            "tags": []
          },
          "execution_count": 25
        }
      ]
    },
    {
      "metadata": {
        "id": "Hz9U7JRAA7KZ",
        "colab_type": "code",
        "colab": {
          "base_uri": "https://localhost:8080/",
          "height": 34
        },
        "outputId": "3c5ed600-e513-44d5-a080-667cf23d1678"
      },
      "cell_type": "code",
      "source": [
        "decoder_target_data.shape"
      ],
      "execution_count": 26,
      "outputs": [
        {
          "output_type": "execute_result",
          "data": {
            "text/plain": [
              "(10000, 59, 93)"
            ]
          },
          "metadata": {
            "tags": []
          },
          "execution_count": 26
        }
      ]
    },
    {
      "metadata": {
        "id": "-Et-UQrrBXJI",
        "colab_type": "code",
        "colab": {}
      },
      "cell_type": "code",
      "source": [
        "#implement one hot vectorization of english and french sentence \n",
        "for i, (input_text, target_text) in enumerate(zip(input_texts, target_texts)):\n",
        "    for t, char in enumerate(input_text):\n",
        "        encoder_input_data[i, t, input_token_index[char]] = 1.\n",
        "    for t, char in enumerate(target_text):\n",
        "        # decoder_target_data is ahead of decoder_input_data by one timestep\n",
        "        decoder_input_data[i, t, target_token_index[char]] = 1.\n",
        "        if t > 0:\n",
        "            # decoder_target_data will be ahead by one timestep\n",
        "            # and will not include the start character.\n",
        "            decoder_target_data[i, t - 1, target_token_index[char]] = 1."
      ],
      "execution_count": 0,
      "outputs": []
    },
    {
      "metadata": {
        "id": "JdYX7a_YCump",
        "colab_type": "code",
        "colab": {
          "base_uri": "https://localhost:8080/",
          "height": 850
        },
        "outputId": "fb1d7f07-1474-43de-a97b-fe06478d5ec2"
      },
      "cell_type": "code",
      "source": [
        "encoder_input_data"
      ],
      "execution_count": 29,
      "outputs": [
        {
          "output_type": "execute_result",
          "data": {
            "text/plain": [
              "array([[[0., 0., 0., ..., 0., 0., 0.],\n",
              "        [0., 0., 0., ..., 0., 0., 0.],\n",
              "        [0., 0., 0., ..., 0., 0., 0.],\n",
              "        ...,\n",
              "        [0., 0., 0., ..., 0., 0., 0.],\n",
              "        [0., 0., 0., ..., 0., 0., 0.],\n",
              "        [0., 0., 0., ..., 0., 0., 0.]],\n",
              "\n",
              "       [[0., 0., 0., ..., 0., 0., 0.],\n",
              "        [0., 0., 0., ..., 0., 0., 0.],\n",
              "        [0., 0., 0., ..., 0., 0., 0.],\n",
              "        ...,\n",
              "        [0., 0., 0., ..., 0., 0., 0.],\n",
              "        [0., 0., 0., ..., 0., 0., 0.],\n",
              "        [0., 0., 0., ..., 0., 0., 0.]],\n",
              "\n",
              "       [[0., 0., 0., ..., 0., 0., 0.],\n",
              "        [0., 0., 0., ..., 0., 0., 0.],\n",
              "        [0., 0., 0., ..., 0., 0., 0.],\n",
              "        ...,\n",
              "        [0., 0., 0., ..., 0., 0., 0.],\n",
              "        [0., 0., 0., ..., 0., 0., 0.],\n",
              "        [0., 0., 0., ..., 0., 0., 0.]],\n",
              "\n",
              "       ...,\n",
              "\n",
              "       [[0., 0., 0., ..., 0., 0., 0.],\n",
              "        [0., 0., 0., ..., 0., 0., 0.],\n",
              "        [0., 0., 0., ..., 0., 0., 0.],\n",
              "        ...,\n",
              "        [0., 0., 0., ..., 0., 0., 0.],\n",
              "        [0., 0., 0., ..., 0., 0., 0.],\n",
              "        [0., 0., 0., ..., 0., 0., 0.]],\n",
              "\n",
              "       [[0., 0., 0., ..., 0., 0., 0.],\n",
              "        [0., 0., 0., ..., 0., 0., 0.],\n",
              "        [0., 0., 0., ..., 0., 0., 0.],\n",
              "        ...,\n",
              "        [0., 0., 0., ..., 0., 0., 0.],\n",
              "        [0., 0., 0., ..., 0., 0., 0.],\n",
              "        [0., 0., 0., ..., 0., 0., 0.]],\n",
              "\n",
              "       [[0., 0., 0., ..., 0., 0., 0.],\n",
              "        [0., 0., 0., ..., 0., 0., 0.],\n",
              "        [0., 0., 0., ..., 0., 0., 0.],\n",
              "        ...,\n",
              "        [0., 0., 0., ..., 0., 0., 0.],\n",
              "        [0., 0., 0., ..., 0., 0., 0.],\n",
              "        [0., 0., 0., ..., 0., 0., 0.]]], dtype=float32)"
            ]
          },
          "metadata": {
            "tags": []
          },
          "execution_count": 29
        }
      ]
    },
    {
      "metadata": {
        "id": "0ktJBYDxCwro",
        "colab_type": "code",
        "colab": {
          "base_uri": "https://localhost:8080/",
          "height": 850
        },
        "outputId": "1b3798e9-700b-444f-b227-03aac5d88617"
      },
      "cell_type": "code",
      "source": [
        "decoder_input_data"
      ],
      "execution_count": 30,
      "outputs": [
        {
          "output_type": "execute_result",
          "data": {
            "text/plain": [
              "array([[[1., 0., 0., ..., 0., 0., 0.],\n",
              "        [0., 0., 0., ..., 0., 0., 0.],\n",
              "        [0., 0., 0., ..., 0., 0., 0.],\n",
              "        ...,\n",
              "        [0., 0., 0., ..., 0., 0., 0.],\n",
              "        [0., 0., 0., ..., 0., 0., 0.],\n",
              "        [0., 0., 0., ..., 0., 0., 0.]],\n",
              "\n",
              "       [[1., 0., 0., ..., 0., 0., 0.],\n",
              "        [0., 0., 0., ..., 0., 0., 0.],\n",
              "        [0., 0., 0., ..., 0., 0., 0.],\n",
              "        ...,\n",
              "        [0., 0., 0., ..., 0., 0., 0.],\n",
              "        [0., 0., 0., ..., 0., 0., 0.],\n",
              "        [0., 0., 0., ..., 0., 0., 0.]],\n",
              "\n",
              "       [[1., 0., 0., ..., 0., 0., 0.],\n",
              "        [0., 0., 0., ..., 0., 0., 0.],\n",
              "        [0., 0., 0., ..., 0., 0., 0.],\n",
              "        ...,\n",
              "        [0., 0., 0., ..., 0., 0., 0.],\n",
              "        [0., 0., 0., ..., 0., 0., 0.],\n",
              "        [0., 0., 0., ..., 0., 0., 0.]],\n",
              "\n",
              "       ...,\n",
              "\n",
              "       [[1., 0., 0., ..., 0., 0., 0.],\n",
              "        [0., 0., 0., ..., 0., 0., 0.],\n",
              "        [0., 0., 0., ..., 0., 0., 0.],\n",
              "        ...,\n",
              "        [0., 0., 0., ..., 0., 0., 0.],\n",
              "        [0., 0., 0., ..., 0., 0., 0.],\n",
              "        [0., 0., 0., ..., 0., 0., 0.]],\n",
              "\n",
              "       [[1., 0., 0., ..., 0., 0., 0.],\n",
              "        [0., 0., 0., ..., 0., 0., 0.],\n",
              "        [0., 0., 0., ..., 0., 0., 0.],\n",
              "        ...,\n",
              "        [0., 0., 0., ..., 0., 0., 0.],\n",
              "        [0., 0., 0., ..., 0., 0., 0.],\n",
              "        [0., 0., 0., ..., 0., 0., 0.]],\n",
              "\n",
              "       [[1., 0., 0., ..., 0., 0., 0.],\n",
              "        [0., 0., 0., ..., 0., 0., 0.],\n",
              "        [0., 0., 0., ..., 0., 0., 0.],\n",
              "        ...,\n",
              "        [0., 0., 0., ..., 0., 0., 0.],\n",
              "        [0., 0., 0., ..., 0., 0., 0.],\n",
              "        [0., 0., 0., ..., 0., 0., 0.]]], dtype=float32)"
            ]
          },
          "metadata": {
            "tags": []
          },
          "execution_count": 30
        }
      ]
    },
    {
      "metadata": {
        "id": "Smawf2EwCqzL",
        "colab_type": "code",
        "colab": {
          "base_uri": "https://localhost:8080/",
          "height": 850
        },
        "outputId": "0964c08a-b680-4c68-eeb9-afadee8241e1"
      },
      "cell_type": "code",
      "source": [
        "decoder_target_data"
      ],
      "execution_count": 28,
      "outputs": [
        {
          "output_type": "execute_result",
          "data": {
            "text/plain": [
              "array([[[0., 0., 0., ..., 0., 0., 0.],\n",
              "        [0., 0., 0., ..., 0., 0., 0.],\n",
              "        [0., 0., 1., ..., 0., 0., 0.],\n",
              "        ...,\n",
              "        [0., 0., 0., ..., 0., 0., 0.],\n",
              "        [0., 0., 0., ..., 0., 0., 0.],\n",
              "        [0., 0., 0., ..., 0., 0., 0.]],\n",
              "\n",
              "       [[0., 0., 0., ..., 0., 0., 0.],\n",
              "        [0., 0., 0., ..., 0., 0., 0.],\n",
              "        [0., 0., 0., ..., 0., 0., 0.],\n",
              "        ...,\n",
              "        [0., 0., 0., ..., 0., 0., 0.],\n",
              "        [0., 0., 0., ..., 0., 0., 0.],\n",
              "        [0., 0., 0., ..., 0., 0., 0.]],\n",
              "\n",
              "       [[0., 0., 0., ..., 0., 0., 0.],\n",
              "        [0., 0., 0., ..., 0., 0., 0.],\n",
              "        [0., 0., 0., ..., 0., 0., 0.],\n",
              "        ...,\n",
              "        [0., 0., 0., ..., 0., 0., 0.],\n",
              "        [0., 0., 0., ..., 0., 0., 0.],\n",
              "        [0., 0., 0., ..., 0., 0., 0.]],\n",
              "\n",
              "       ...,\n",
              "\n",
              "       [[0., 0., 0., ..., 0., 0., 0.],\n",
              "        [0., 0., 0., ..., 0., 0., 0.],\n",
              "        [0., 0., 1., ..., 0., 0., 0.],\n",
              "        ...,\n",
              "        [0., 0., 0., ..., 0., 0., 0.],\n",
              "        [0., 0., 0., ..., 0., 0., 0.],\n",
              "        [0., 0., 0., ..., 0., 0., 0.]],\n",
              "\n",
              "       [[0., 0., 0., ..., 0., 0., 0.],\n",
              "        [0., 0., 0., ..., 0., 0., 0.],\n",
              "        [0., 0., 1., ..., 0., 0., 0.],\n",
              "        ...,\n",
              "        [0., 0., 0., ..., 0., 0., 0.],\n",
              "        [0., 0., 0., ..., 0., 0., 0.],\n",
              "        [0., 0., 0., ..., 0., 0., 0.]],\n",
              "\n",
              "       [[0., 0., 0., ..., 0., 0., 0.],\n",
              "        [0., 0., 0., ..., 0., 0., 0.],\n",
              "        [0., 0., 0., ..., 0., 0., 0.],\n",
              "        ...,\n",
              "        [0., 0., 0., ..., 0., 0., 0.],\n",
              "        [0., 0., 0., ..., 0., 0., 0.],\n",
              "        [0., 0., 0., ..., 0., 0., 0.]]], dtype=float32)"
            ]
          },
          "metadata": {
            "tags": []
          },
          "execution_count": 28
        }
      ]
    },
    {
      "metadata": {
        "id": "ZYyP2FDRDXdN",
        "colab_type": "code",
        "colab": {
          "base_uri": "https://localhost:8080/",
          "height": 34
        },
        "outputId": "55cd22fe-e76b-42a8-9ed5-deeeb3ffe622"
      },
      "cell_type": "code",
      "source": [
        "print(latent_dim)"
      ],
      "execution_count": 32,
      "outputs": [
        {
          "output_type": "stream",
          "text": [
            "256\n"
          ],
          "name": "stdout"
        }
      ]
    },
    {
      "metadata": {
        "id": "KW9aUbXcC5aq",
        "colab_type": "code",
        "colab": {
          "base_uri": "https://localhost:8080/",
          "height": 34
        },
        "outputId": "def0e377-ff0c-4371-e320-d24bfff5bb2d"
      },
      "cell_type": "code",
      "source": [
        "# Define an input sequence and process it.\n",
        "encoder_inputs = Input(shape=(None, num_encoder_tokens))\n",
        "encoder = LSTM(latent_dim, return_state=True)\n",
        "encoder_outputs, state_h, state_c = encoder(encoder_inputs)\n",
        "print(encoder_outputs)\n",
        "# We discard `encoder_outputs` and only keep the states.\n",
        "encoder_states = [state_h, state_c]"
      ],
      "execution_count": 31,
      "outputs": [
        {
          "output_type": "stream",
          "text": [
            "Tensor(\"lstm_1/TensorArrayReadV3:0\", shape=(?, 256), dtype=float32)\n"
          ],
          "name": "stdout"
        }
      ]
    },
    {
      "metadata": {
        "id": "EagtCpzjDntC",
        "colab_type": "code",
        "colab": {}
      },
      "cell_type": "code",
      "source": [
        "# Set up the decoder, using `encoder_states` as initial state.\n",
        "decoder_inputs = Input(shape=(None, num_decoder_tokens))\n",
        "# We set up our decoder to return full output sequences,\n",
        "# and to return internal states as well. We don't use the\n",
        "# return states in the training model, but we will use them in inference.\n",
        "decoder_lstm = LSTM(latent_dim, return_sequences=True, return_state=True)\n",
        "decoder_outputs, _, _ = decoder_lstm(decoder_inputs,\n",
        "                                     initial_state=encoder_states)\n",
        "#\n",
        "decoder_dense = Dense(num_decoder_tokens, activation='softmax')\n",
        "decoder_outputs = decoder_dense(decoder_outputs)"
      ],
      "execution_count": 0,
      "outputs": []
    },
    {
      "metadata": {
        "id": "ATWD8R6KD06O",
        "colab_type": "code",
        "colab": {}
      },
      "cell_type": "code",
      "source": [
        "# Define the model that will turn\n",
        "# `encoder_input_data` & `decoder_input_data` into `decoder_target_data`\n",
        "model = Model([encoder_inputs, decoder_inputs], decoder_outputs)"
      ],
      "execution_count": 0,
      "outputs": []
    },
    {
      "metadata": {
        "id": "u2jrFRZGD5nW",
        "colab_type": "code",
        "colab": {
          "base_uri": "https://localhost:8080/",
          "height": 340
        },
        "outputId": "de6e3beb-06d1-41d8-d11e-8c8850535b81"
      },
      "cell_type": "code",
      "source": [
        "model.summary()"
      ],
      "execution_count": 36,
      "outputs": [
        {
          "output_type": "stream",
          "text": [
            "__________________________________________________________________________________________________\n",
            "Layer (type)                    Output Shape         Param #     Connected to                     \n",
            "==================================================================================================\n",
            "input_1 (InputLayer)            (None, None, 69)     0                                            \n",
            "__________________________________________________________________________________________________\n",
            "input_2 (InputLayer)            (None, None, 93)     0                                            \n",
            "__________________________________________________________________________________________________\n",
            "lstm_1 (LSTM)                   [(None, 256), (None, 333824      input_1[0][0]                    \n",
            "__________________________________________________________________________________________________\n",
            "lstm_2 (LSTM)                   [(None, None, 256),  358400      input_2[0][0]                    \n",
            "                                                                 lstm_1[0][1]                     \n",
            "                                                                 lstm_1[0][2]                     \n",
            "__________________________________________________________________________________________________\n",
            "dense_1 (Dense)                 (None, None, 93)     23901       lstm_2[0][0]                     \n",
            "==================================================================================================\n",
            "Total params: 716,125\n",
            "Trainable params: 716,125\n",
            "Non-trainable params: 0\n",
            "__________________________________________________________________________________________________\n"
          ],
          "name": "stdout"
        }
      ]
    },
    {
      "metadata": {
        "id": "izV3QV4uEBEW",
        "colab_type": "code",
        "colab": {
          "base_uri": "https://localhost:8080/",
          "height": 3451
        },
        "outputId": "76364ac2-75be-414b-aa39-79c3b771dacb"
      },
      "cell_type": "code",
      "source": [
        "# Run training\n",
        "model.compile(optimizer='rmsprop', loss='categorical_crossentropy')\n",
        "model.fit([encoder_input_data, decoder_input_data], decoder_target_data,\n",
        "          batch_size=batch_size,\n",
        "          epochs=epochs,\n",
        "          validation_split=0.2)"
      ],
      "execution_count": 37,
      "outputs": [
        {
          "output_type": "stream",
          "text": [
            "Train on 8000 samples, validate on 2000 samples\n",
            "Epoch 1/100\n",
            "8000/8000 [==============================] - 22s 3ms/step - loss: 0.9178 - val_loss: 0.9371\n",
            "Epoch 2/100\n",
            "8000/8000 [==============================] - 19s 2ms/step - loss: 0.7255 - val_loss: 0.7679\n",
            "Epoch 3/100\n",
            "8000/8000 [==============================] - 19s 2ms/step - loss: 0.6179 - val_loss: 0.7031\n",
            "Epoch 4/100\n",
            "8000/8000 [==============================] - 19s 2ms/step - loss: 0.5636 - val_loss: 0.6490\n",
            "Epoch 5/100\n",
            "8000/8000 [==============================] - 19s 2ms/step - loss: 0.5222 - val_loss: 0.6007\n",
            "Epoch 6/100\n",
            "8000/8000 [==============================] - 19s 2ms/step - loss: 0.4903 - val_loss: 0.5799\n",
            "Epoch 7/100\n",
            "8000/8000 [==============================] - 19s 2ms/step - loss: 0.4643 - val_loss: 0.5623\n",
            "Epoch 8/100\n",
            "8000/8000 [==============================] - 19s 2ms/step - loss: 0.4416 - val_loss: 0.5377\n",
            "Epoch 9/100\n",
            "8000/8000 [==============================] - 19s 2ms/step - loss: 0.4220 - val_loss: 0.5175\n",
            "Epoch 10/100\n",
            "8000/8000 [==============================] - 19s 2ms/step - loss: 0.4047 - val_loss: 0.5017\n",
            "Epoch 11/100\n",
            "8000/8000 [==============================] - 19s 2ms/step - loss: 0.3890 - val_loss: 0.4974\n",
            "Epoch 12/100\n",
            "8000/8000 [==============================] - 19s 2ms/step - loss: 0.3739 - val_loss: 0.4872\n",
            "Epoch 13/100\n",
            "8000/8000 [==============================] - 20s 3ms/step - loss: 0.3596 - val_loss: 0.4781\n",
            "Epoch 14/100\n",
            "8000/8000 [==============================] - 19s 2ms/step - loss: 0.3469 - val_loss: 0.4721\n",
            "Epoch 15/100\n",
            "8000/8000 [==============================] - 20s 2ms/step - loss: 0.3346 - val_loss: 0.4659\n",
            "Epoch 16/100\n",
            "8000/8000 [==============================] - 19s 2ms/step - loss: 0.3231 - val_loss: 0.4617\n",
            "Epoch 17/100\n",
            "8000/8000 [==============================] - 19s 2ms/step - loss: 0.3118 - val_loss: 0.4577\n",
            "Epoch 18/100\n",
            "8000/8000 [==============================] - 19s 2ms/step - loss: 0.3012 - val_loss: 0.4562\n",
            "Epoch 19/100\n",
            "8000/8000 [==============================] - 19s 2ms/step - loss: 0.2910 - val_loss: 0.4551\n",
            "Epoch 20/100\n",
            "8000/8000 [==============================] - 20s 2ms/step - loss: 0.2818 - val_loss: 0.4560\n",
            "Epoch 21/100\n",
            "8000/8000 [==============================] - 20s 2ms/step - loss: 0.2721 - val_loss: 0.4533\n",
            "Epoch 22/100\n",
            "8000/8000 [==============================] - 19s 2ms/step - loss: 0.2635 - val_loss: 0.4544\n",
            "Epoch 23/100\n",
            "8000/8000 [==============================] - 19s 2ms/step - loss: 0.2553 - val_loss: 0.4562\n",
            "Epoch 24/100\n",
            "8000/8000 [==============================] - 19s 2ms/step - loss: 0.2476 - val_loss: 0.4542\n",
            "Epoch 25/100\n",
            "8000/8000 [==============================] - 19s 2ms/step - loss: 0.2396 - val_loss: 0.4583\n",
            "Epoch 26/100\n",
            "8000/8000 [==============================] - 20s 2ms/step - loss: 0.2324 - val_loss: 0.4634\n",
            "Epoch 27/100\n",
            "8000/8000 [==============================] - 19s 2ms/step - loss: 0.2252 - val_loss: 0.4650\n",
            "Epoch 28/100\n",
            "8000/8000 [==============================] - 20s 2ms/step - loss: 0.2186 - val_loss: 0.4654\n",
            "Epoch 29/100\n",
            "8000/8000 [==============================] - 20s 3ms/step - loss: 0.2120 - val_loss: 0.4665\n",
            "Epoch 30/100\n",
            "8000/8000 [==============================] - 19s 2ms/step - loss: 0.2059 - val_loss: 0.4679\n",
            "Epoch 31/100\n",
            "8000/8000 [==============================] - 19s 2ms/step - loss: 0.1999 - val_loss: 0.4748\n",
            "Epoch 32/100\n",
            "8000/8000 [==============================] - 20s 2ms/step - loss: 0.1942 - val_loss: 0.4786\n",
            "Epoch 33/100\n",
            "8000/8000 [==============================] - 19s 2ms/step - loss: 0.1883 - val_loss: 0.4914\n",
            "Epoch 34/100\n",
            "8000/8000 [==============================] - 20s 2ms/step - loss: 0.1835 - val_loss: 0.4865\n",
            "Epoch 35/100\n",
            "8000/8000 [==============================] - 19s 2ms/step - loss: 0.1778 - val_loss: 0.4878\n",
            "Epoch 36/100\n",
            "8000/8000 [==============================] - 19s 2ms/step - loss: 0.1734 - val_loss: 0.4905\n",
            "Epoch 37/100\n",
            "8000/8000 [==============================] - 19s 2ms/step - loss: 0.1685 - val_loss: 0.4911\n",
            "Epoch 38/100\n",
            "8000/8000 [==============================] - 20s 2ms/step - loss: 0.1639 - val_loss: 0.4978\n",
            "Epoch 39/100\n",
            "8000/8000 [==============================] - 20s 2ms/step - loss: 0.1599 - val_loss: 0.5085\n",
            "Epoch 40/100\n",
            "8000/8000 [==============================] - 20s 2ms/step - loss: 0.1555 - val_loss: 0.5097\n",
            "Epoch 41/100\n",
            "8000/8000 [==============================] - 19s 2ms/step - loss: 0.1518 - val_loss: 0.5167\n",
            "Epoch 42/100\n",
            "8000/8000 [==============================] - 19s 2ms/step - loss: 0.1475 - val_loss: 0.5253\n",
            "Epoch 43/100\n",
            "8000/8000 [==============================] - 19s 2ms/step - loss: 0.1441 - val_loss: 0.5312\n",
            "Epoch 44/100\n",
            "8000/8000 [==============================] - 20s 2ms/step - loss: 0.1406 - val_loss: 0.5290\n",
            "Epoch 45/100\n",
            "8000/8000 [==============================] - 20s 3ms/step - loss: 0.1372 - val_loss: 0.5341\n",
            "Epoch 46/100\n",
            "8000/8000 [==============================] - 20s 2ms/step - loss: 0.1338 - val_loss: 0.5416\n",
            "Epoch 47/100\n",
            "8000/8000 [==============================] - 19s 2ms/step - loss: 0.1309 - val_loss: 0.5466\n",
            "Epoch 48/100\n",
            "8000/8000 [==============================] - 19s 2ms/step - loss: 0.1277 - val_loss: 0.5533\n",
            "Epoch 49/100\n",
            "8000/8000 [==============================] - 19s 2ms/step - loss: 0.1248 - val_loss: 0.5550\n",
            "Epoch 50/100\n",
            "8000/8000 [==============================] - 19s 2ms/step - loss: 0.1217 - val_loss: 0.5647\n",
            "Epoch 51/100\n",
            "8000/8000 [==============================] - 19s 2ms/step - loss: 0.1192 - val_loss: 0.5718\n",
            "Epoch 52/100\n",
            "8000/8000 [==============================] - 19s 2ms/step - loss: 0.1163 - val_loss: 0.5682\n",
            "Epoch 53/100\n",
            "8000/8000 [==============================] - 19s 2ms/step - loss: 0.1140 - val_loss: 0.5773\n",
            "Epoch 54/100\n",
            "8000/8000 [==============================] - 19s 2ms/step - loss: 0.1114 - val_loss: 0.5906\n",
            "Epoch 55/100\n",
            "8000/8000 [==============================] - 19s 2ms/step - loss: 0.1091 - val_loss: 0.5878\n",
            "Epoch 56/100\n",
            "8000/8000 [==============================] - 19s 2ms/step - loss: 0.1070 - val_loss: 0.5966\n",
            "Epoch 57/100\n",
            "8000/8000 [==============================] - 19s 2ms/step - loss: 0.1048 - val_loss: 0.5935\n",
            "Epoch 58/100\n",
            "8000/8000 [==============================] - 19s 2ms/step - loss: 0.1024 - val_loss: 0.6115\n",
            "Epoch 59/100\n",
            "8000/8000 [==============================] - 19s 2ms/step - loss: 0.1003 - val_loss: 0.6071\n",
            "Epoch 60/100\n",
            "8000/8000 [==============================] - 20s 2ms/step - loss: 0.0984 - val_loss: 0.6123\n",
            "Epoch 61/100\n",
            "8000/8000 [==============================] - 20s 2ms/step - loss: 0.0966 - val_loss: 0.6177\n",
            "Epoch 62/100\n",
            "8000/8000 [==============================] - 20s 2ms/step - loss: 0.0948 - val_loss: 0.6181\n",
            "Epoch 63/100\n",
            "8000/8000 [==============================] - 20s 2ms/step - loss: 0.0928 - val_loss: 0.6270\n",
            "Epoch 64/100\n",
            "8000/8000 [==============================] - 19s 2ms/step - loss: 0.0911 - val_loss: 0.6265\n",
            "Epoch 65/100\n",
            "8000/8000 [==============================] - 19s 2ms/step - loss: 0.0895 - val_loss: 0.6325\n",
            "Epoch 66/100\n",
            "8000/8000 [==============================] - 19s 2ms/step - loss: 0.0879 - val_loss: 0.6388\n",
            "Epoch 67/100\n",
            "8000/8000 [==============================] - 19s 2ms/step - loss: 0.0863 - val_loss: 0.6437\n",
            "Epoch 68/100\n",
            "8000/8000 [==============================] - 20s 2ms/step - loss: 0.0846 - val_loss: 0.6410\n",
            "Epoch 69/100\n",
            "8000/8000 [==============================] - 19s 2ms/step - loss: 0.0832 - val_loss: 0.6548\n",
            "Epoch 70/100\n",
            "8000/8000 [==============================] - 19s 2ms/step - loss: 0.0816 - val_loss: 0.6583\n",
            "Epoch 71/100\n",
            "8000/8000 [==============================] - 20s 2ms/step - loss: 0.0803 - val_loss: 0.6647\n",
            "Epoch 72/100\n",
            "8000/8000 [==============================] - 19s 2ms/step - loss: 0.0790 - val_loss: 0.6661\n",
            "Epoch 73/100\n",
            "8000/8000 [==============================] - 20s 2ms/step - loss: 0.0771 - val_loss: 0.6721\n",
            "Epoch 74/100\n",
            "8000/8000 [==============================] - 20s 2ms/step - loss: 0.0763 - val_loss: 0.6768\n",
            "Epoch 75/100\n",
            "8000/8000 [==============================] - 20s 2ms/step - loss: 0.0750 - val_loss: 0.6772\n",
            "Epoch 76/100\n",
            "8000/8000 [==============================] - 20s 2ms/step - loss: 0.0735 - val_loss: 0.6823\n",
            "Epoch 77/100\n",
            "8000/8000 [==============================] - 20s 2ms/step - loss: 0.0724 - val_loss: 0.6830\n",
            "Epoch 78/100\n",
            "8000/8000 [==============================] - 20s 2ms/step - loss: 0.0713 - val_loss: 0.6929\n",
            "Epoch 79/100\n",
            "8000/8000 [==============================] - 20s 2ms/step - loss: 0.0702 - val_loss: 0.6904\n",
            "Epoch 80/100\n",
            "8000/8000 [==============================] - 20s 2ms/step - loss: 0.0691 - val_loss: 0.6971\n",
            "Epoch 81/100\n",
            "8000/8000 [==============================] - 19s 2ms/step - loss: 0.0678 - val_loss: 0.7010\n",
            "Epoch 82/100\n",
            "8000/8000 [==============================] - 19s 2ms/step - loss: 0.0670 - val_loss: 0.7059\n",
            "Epoch 83/100\n",
            "8000/8000 [==============================] - 20s 2ms/step - loss: 0.0661 - val_loss: 0.7102\n",
            "Epoch 84/100\n",
            "8000/8000 [==============================] - 19s 2ms/step - loss: 0.0647 - val_loss: 0.7149\n",
            "Epoch 85/100\n",
            "8000/8000 [==============================] - 20s 2ms/step - loss: 0.0640 - val_loss: 0.7151\n",
            "Epoch 86/100\n",
            "8000/8000 [==============================] - 20s 2ms/step - loss: 0.0633 - val_loss: 0.7170\n",
            "Epoch 87/100\n",
            "8000/8000 [==============================] - 20s 2ms/step - loss: 0.0620 - val_loss: 0.7204\n",
            "Epoch 88/100\n",
            "8000/8000 [==============================] - 20s 2ms/step - loss: 0.0612 - val_loss: 0.7280\n",
            "Epoch 89/100\n",
            "8000/8000 [==============================] - 20s 2ms/step - loss: 0.0604 - val_loss: 0.7255\n",
            "Epoch 90/100\n",
            "8000/8000 [==============================] - 19s 2ms/step - loss: 0.0595 - val_loss: 0.7238\n",
            "Epoch 91/100\n",
            "8000/8000 [==============================] - 19s 2ms/step - loss: 0.0585 - val_loss: 0.7322\n",
            "Epoch 92/100\n",
            "8000/8000 [==============================] - 20s 2ms/step - loss: 0.0578 - val_loss: 0.7321\n",
            "Epoch 93/100\n",
            "8000/8000 [==============================] - 20s 2ms/step - loss: 0.0569 - val_loss: 0.7459\n",
            "Epoch 94/100\n",
            "8000/8000 [==============================] - 19s 2ms/step - loss: 0.0561 - val_loss: 0.7376\n",
            "Epoch 95/100\n",
            "8000/8000 [==============================] - 20s 2ms/step - loss: 0.0552 - val_loss: 0.7474\n",
            "Epoch 96/100\n",
            "8000/8000 [==============================] - 19s 2ms/step - loss: 0.0548 - val_loss: 0.7486\n",
            "Epoch 97/100\n",
            "8000/8000 [==============================] - 19s 2ms/step - loss: 0.0535 - val_loss: 0.7481\n",
            "Epoch 98/100\n",
            "8000/8000 [==============================] - 19s 2ms/step - loss: 0.0533 - val_loss: 0.7612\n",
            "Epoch 99/100\n",
            "8000/8000 [==============================] - 19s 2ms/step - loss: 0.0522 - val_loss: 0.7564\n",
            "Epoch 100/100\n",
            "8000/8000 [==============================] - 19s 2ms/step - loss: 0.0519 - val_loss: 0.7618\n"
          ],
          "name": "stdout"
        },
        {
          "output_type": "execute_result",
          "data": {
            "text/plain": [
              "<keras.callbacks.History at 0x7fc5de78b2b0>"
            ]
          },
          "metadata": {
            "tags": []
          },
          "execution_count": 37
        }
      ]
    },
    {
      "metadata": {
        "id": "mtgxeHYvYqD8",
        "colab_type": "code",
        "colab": {
          "base_uri": "https://localhost:8080/",
          "height": 71
        },
        "outputId": "6a2901a4-0c5b-4f9c-c413-ca4c20661eed"
      },
      "cell_type": "code",
      "source": [
        "# Save model\n",
        "model.save('s2s.h5')"
      ],
      "execution_count": 38,
      "outputs": [
        {
          "output_type": "stream",
          "text": [
            "/usr/local/lib/python3.6/dist-packages/keras/engine/topology.py:2379: UserWarning: Layer lstm_2 was passed non-serializable keyword arguments: {'initial_state': [<tf.Tensor 'lstm_1/while/Exit_2:0' shape=(?, 256) dtype=float32>, <tf.Tensor 'lstm_1/while/Exit_3:0' shape=(?, 256) dtype=float32>]}. They will not be included in the serialized model (and thus will be missing at deserialization time).\n",
            "  str(node.arguments) + '. They will not be included '\n"
          ],
          "name": "stderr"
        }
      ]
    },
    {
      "metadata": {
        "id": "lmG7KO1KZKPJ",
        "colab_type": "text"
      },
      "cell_type": "markdown",
      "source": [
        "# Next: inference mode (sampling).\n",
        "\n",
        "# 1) encode input and retrieve initial decoder state\n",
        "# 2) run one step of decoder with this initial state and a \"start of sequence\" token as target.\n",
        "# 3)Output will be the next target token\n",
        "# 4) Repeat with the current target token and current states"
      ]
    },
    {
      "metadata": {
        "id": "lxsmpw0QZUB9",
        "colab_type": "code",
        "colab": {}
      },
      "cell_type": "code",
      "source": [
        "# Define sampling models\n",
        "encoder_model = Model(encoder_inputs, encoder_states)"
      ],
      "execution_count": 0,
      "outputs": []
    },
    {
      "metadata": {
        "id": "BqoGF92xZEGi",
        "colab_type": "code",
        "colab": {}
      },
      "cell_type": "code",
      "source": [
        "# Define Decoder Model\n",
        "decoder_state_input_h = Input(shape=(latent_dim,))\n",
        "decoder_state_input_c = Input(shape=(latent_dim,))\n",
        "decoder_states_inputs = [decoder_state_input_h, decoder_state_input_c]\n",
        "#\n",
        "decoder_outputs, state_h, state_c = decoder_lstm(decoder_inputs, initial_state=decoder_states_inputs)\n",
        "decoder_states = [state_h, state_c]\n",
        "decoder_outputs = decoder_dense(decoder_outputs)\n",
        "#\n",
        "decoder_model = Model([decoder_inputs] + decoder_states_inputs,[decoder_outputs] + decoder_states)\n"
      ],
      "execution_count": 0,
      "outputs": []
    },
    {
      "metadata": {
        "id": "cW7NcEmwasQ9",
        "colab_type": "code",
        "colab": {}
      },
      "cell_type": "code",
      "source": [
        "# Reverse-lookup token index to decode sequences back to something readable.\n",
        "reverse_input_char_index = dict((i, char) for char, i in input_token_index.items())\n",
        "reverse_target_char_index = dict((i, char) for char, i in target_token_index.items())"
      ],
      "execution_count": 0,
      "outputs": []
    },
    {
      "metadata": {
        "id": "nnMVFekka1V7",
        "colab_type": "code",
        "colab": {
          "base_uri": "https://localhost:8080/",
          "height": 1190
        },
        "outputId": "00f2eaad-f2b3-4e2c-e320-62f119792dd5"
      },
      "cell_type": "code",
      "source": [
        "reverse_input_char_index"
      ],
      "execution_count": 42,
      "outputs": [
        {
          "output_type": "execute_result",
          "data": {
            "text/plain": [
              "{0: ' ',\n",
              " 1: '!',\n",
              " 2: '$',\n",
              " 3: '%',\n",
              " 4: '&',\n",
              " 5: \"'\",\n",
              " 6: ',',\n",
              " 7: '-',\n",
              " 8: '.',\n",
              " 9: '0',\n",
              " 10: '1',\n",
              " 11: '3',\n",
              " 12: '5',\n",
              " 13: '6',\n",
              " 14: '7',\n",
              " 15: '8',\n",
              " 16: '9',\n",
              " 17: ':',\n",
              " 18: '?',\n",
              " 19: 'A',\n",
              " 20: 'B',\n",
              " 21: 'C',\n",
              " 22: 'D',\n",
              " 23: 'E',\n",
              " 24: 'F',\n",
              " 25: 'G',\n",
              " 26: 'H',\n",
              " 27: 'I',\n",
              " 28: 'J',\n",
              " 29: 'K',\n",
              " 30: 'L',\n",
              " 31: 'M',\n",
              " 32: 'N',\n",
              " 33: 'O',\n",
              " 34: 'P',\n",
              " 35: 'Q',\n",
              " 36: 'R',\n",
              " 37: 'S',\n",
              " 38: 'T',\n",
              " 39: 'U',\n",
              " 40: 'V',\n",
              " 41: 'W',\n",
              " 42: 'Y',\n",
              " 43: 'a',\n",
              " 44: 'b',\n",
              " 45: 'c',\n",
              " 46: 'd',\n",
              " 47: 'e',\n",
              " 48: 'f',\n",
              " 49: 'g',\n",
              " 50: 'h',\n",
              " 51: 'i',\n",
              " 52: 'j',\n",
              " 53: 'k',\n",
              " 54: 'l',\n",
              " 55: 'm',\n",
              " 56: 'n',\n",
              " 57: 'o',\n",
              " 58: 'p',\n",
              " 59: 'q',\n",
              " 60: 'r',\n",
              " 61: 's',\n",
              " 62: 't',\n",
              " 63: 'u',\n",
              " 64: 'v',\n",
              " 65: 'w',\n",
              " 66: 'x',\n",
              " 67: 'y',\n",
              " 68: 'z'}"
            ]
          },
          "metadata": {
            "tags": []
          },
          "execution_count": 42
        }
      ]
    },
    {
      "metadata": {
        "id": "7UpVSK8-a9UD",
        "colab_type": "code",
        "colab": {
          "base_uri": "https://localhost:8080/",
          "height": 1598
        },
        "outputId": "4d0de92c-af80-4edd-90f5-4854706a67b6"
      },
      "cell_type": "code",
      "source": [
        "reverse_target_char_index"
      ],
      "execution_count": 43,
      "outputs": [
        {
          "output_type": "execute_result",
          "data": {
            "text/plain": [
              "{0: '\\t',\n",
              " 1: '\\n',\n",
              " 2: ' ',\n",
              " 3: '!',\n",
              " 4: '$',\n",
              " 5: '%',\n",
              " 6: '&',\n",
              " 7: \"'\",\n",
              " 8: '(',\n",
              " 9: ')',\n",
              " 10: ',',\n",
              " 11: '-',\n",
              " 12: '.',\n",
              " 13: '0',\n",
              " 14: '1',\n",
              " 15: '3',\n",
              " 16: '5',\n",
              " 17: '8',\n",
              " 18: '9',\n",
              " 19: ':',\n",
              " 20: '?',\n",
              " 21: 'A',\n",
              " 22: 'B',\n",
              " 23: 'C',\n",
              " 24: 'D',\n",
              " 25: 'E',\n",
              " 26: 'F',\n",
              " 27: 'G',\n",
              " 28: 'H',\n",
              " 29: 'I',\n",
              " 30: 'J',\n",
              " 31: 'K',\n",
              " 32: 'L',\n",
              " 33: 'M',\n",
              " 34: 'N',\n",
              " 35: 'O',\n",
              " 36: 'P',\n",
              " 37: 'Q',\n",
              " 38: 'R',\n",
              " 39: 'S',\n",
              " 40: 'T',\n",
              " 41: 'U',\n",
              " 42: 'V',\n",
              " 43: 'Y',\n",
              " 44: 'a',\n",
              " 45: 'b',\n",
              " 46: 'c',\n",
              " 47: 'd',\n",
              " 48: 'e',\n",
              " 49: 'f',\n",
              " 50: 'g',\n",
              " 51: 'h',\n",
              " 52: 'i',\n",
              " 53: 'j',\n",
              " 54: 'k',\n",
              " 55: 'l',\n",
              " 56: 'm',\n",
              " 57: 'n',\n",
              " 58: 'o',\n",
              " 59: 'p',\n",
              " 60: 'q',\n",
              " 61: 'r',\n",
              " 62: 's',\n",
              " 63: 't',\n",
              " 64: 'u',\n",
              " 65: 'v',\n",
              " 66: 'w',\n",
              " 67: 'x',\n",
              " 68: 'y',\n",
              " 69: 'z',\n",
              " 70: '\\xa0',\n",
              " 71: '«',\n",
              " 72: '»',\n",
              " 73: 'À',\n",
              " 74: 'Ç',\n",
              " 75: 'É',\n",
              " 76: 'Ê',\n",
              " 77: 'à',\n",
              " 78: 'â',\n",
              " 79: 'ç',\n",
              " 80: 'è',\n",
              " 81: 'é',\n",
              " 82: 'ê',\n",
              " 83: 'ë',\n",
              " 84: 'î',\n",
              " 85: 'ï',\n",
              " 86: 'ô',\n",
              " 87: 'ù',\n",
              " 88: 'û',\n",
              " 89: 'œ',\n",
              " 90: '\\u2009',\n",
              " 91: '’',\n",
              " 92: '\\u202f'}"
            ]
          },
          "metadata": {
            "tags": []
          },
          "execution_count": 43
        }
      ]
    },
    {
      "metadata": {
        "id": "jeXfhnQzbMQk",
        "colab_type": "code",
        "colab": {}
      },
      "cell_type": "code",
      "source": [
        "def decode_sequence(input_seq):\n",
        "    # Encode the input as state vectors.\n",
        "    states_value = encoder_model.predict(input_seq)\n",
        "\n",
        "    # Generate empty target sequence of length 1.\n",
        "    target_seq = np.zeros((1, 1, num_decoder_tokens))\n",
        "    # Populate the first character of target sequence with the start character.\n",
        "    target_seq[0, 0, target_token_index['\\t']] = 1.\n",
        "\n",
        "    # Sampling loop for a batch of sequences\n",
        "    # (to simplify, here we assume a batch of size 1).\n",
        "    stop_condition = False\n",
        "    decoded_sentence = ''\n",
        "    while not stop_condition:\n",
        "        output_tokens, h, c = decoder_model.predict([target_seq] + states_value)\n",
        "\n",
        "        # Sample a token\n",
        "        sampled_token_index = np.argmax(output_tokens[0, -1, :])\n",
        "        #print('---------------------------------------------------')\n",
        "        #print(sampled_token_index)\n",
        "        sampled_char = reverse_target_char_index[sampled_token_index]\n",
        "        decoded_sentence += sampled_char\n",
        "        #print('---------------------------------------------------')\n",
        "        #print(sampled_char)\n",
        "        #print('---------------------------------------------------')\n",
        "        # Exit condition: either hit max length\n",
        "        # or find stop character.\n",
        "        if (sampled_char == '\\n' or\n",
        "           len(decoded_sentence) > max_decoder_seq_length):\n",
        "            stop_condition = True\n",
        "\n",
        "        # Update the target sequence (of length 1).\n",
        "        target_seq = np.zeros((1, 1, num_decoder_tokens))\n",
        "        target_seq[0, 0, sampled_token_index] = 1.\n",
        "\n",
        "        # Update states\n",
        "        states_value = [h, c]\n",
        "\n",
        "    return decoded_sentence"
      ],
      "execution_count": 0,
      "outputs": []
    },
    {
      "metadata": {
        "id": "eFT5UwbAekR7",
        "colab_type": "code",
        "colab": {
          "base_uri": "https://localhost:8080/",
          "height": 6817
        },
        "outputId": "ccc36145-5d56-4dd6-b116-4ea34e8a776c"
      },
      "cell_type": "code",
      "source": [
        "for seq_index in range(100):\n",
        "    # Take one sequence (part of the training set)\n",
        "    # for trying out decoding.\n",
        "    input_seq = encoder_input_data[seq_index: seq_index + 1]\n",
        "    #print('---------------------------------------------------------')\n",
        "    #print('input sequence : ',input_seq)\n",
        "    #print('---------------------------------------------------------')\n",
        "    decoded_sentence = decode_sequence(input_seq)\n",
        "    print('-')\n",
        "    print('Input sentence:', input_texts[seq_index])\n",
        "    print('Decoded sentence:', decoded_sentence)"
      ],
      "execution_count": 49,
      "outputs": [
        {
          "output_type": "stream",
          "text": [
            "-\n",
            "Input sentence: Go.\n",
            "Decoded sentence: Surviez !\n",
            "\n",
            "-\n",
            "Input sentence: Hi.\n",
            "Decoded sentence: Salut !\n",
            "\n",
            "-\n",
            "Input sentence: Run!\n",
            "Decoded sentence: Courez !\n",
            "\n",
            "-\n",
            "Input sentence: Run!\n",
            "Decoded sentence: Courez !\n",
            "\n",
            "-\n",
            "Input sentence: Wow!\n",
            "Decoded sentence: Ça alors !\n",
            "\n",
            "-\n",
            "Input sentence: Fire!\n",
            "Decoded sentence: Au feu !\n",
            "\n",
            "-\n",
            "Input sentence: Help!\n",
            "Decoded sentence: À l'aide !\n",
            "\n",
            "-\n",
            "Input sentence: Jump.\n",
            "Decoded sentence: Saute.\n",
            "\n",
            "-\n",
            "Input sentence: Stop!\n",
            "Decoded sentence: Arrête-toi !\n",
            "\n",
            "-\n",
            "Input sentence: Stop!\n",
            "Decoded sentence: Arrête-toi !\n",
            "\n",
            "-\n",
            "Input sentence: Stop!\n",
            "Decoded sentence: Arrête-toi !\n",
            "\n",
            "-\n",
            "Input sentence: Wait!\n",
            "Decoded sentence: Attendez !\n",
            "\n",
            "-\n",
            "Input sentence: Wait!\n",
            "Decoded sentence: Attendez !\n",
            "\n",
            "-\n",
            "Input sentence: Go on.\n",
            "Decoded sentence: Poursuivez.\n",
            "\n",
            "-\n",
            "Input sentence: Go on.\n",
            "Decoded sentence: Poursuivez.\n",
            "\n",
            "-\n",
            "Input sentence: Go on.\n",
            "Decoded sentence: Poursuivez.\n",
            "\n",
            "-\n",
            "Input sentence: Hello!\n",
            "Decoded sentence: Salut !\n",
            "\n",
            "-\n",
            "Input sentence: Hello!\n",
            "Decoded sentence: Salut !\n",
            "\n",
            "-\n",
            "Input sentence: I see.\n",
            "Decoded sentence: Je le souviens de d'ixiète pas nogé.\n",
            "\n",
            "-\n",
            "Input sentence: I try.\n",
            "Decoded sentence: J'essaye.\n",
            "\n",
            "-\n",
            "Input sentence: I won!\n",
            "Decoded sentence: Je l'ai emporté !\n",
            "\n",
            "-\n",
            "Input sentence: I won!\n",
            "Decoded sentence: Je l'ai emporté !\n",
            "\n",
            "-\n",
            "Input sentence: Oh no!\n",
            "Decoded sentence: Oh non !\n",
            "\n",
            "-\n",
            "Input sentence: Attack!\n",
            "Decoded sentence: Attaque !\n",
            "\n",
            "-\n",
            "Input sentence: Attack!\n",
            "Decoded sentence: Attaque !\n",
            "\n",
            "-\n",
            "Input sentence: Cheers!\n",
            "Decoded sentence: Santé !\n",
            "\n",
            "-\n",
            "Input sentence: Cheers!\n",
            "Decoded sentence: Santé !\n",
            "\n",
            "-\n",
            "Input sentence: Cheers!\n",
            "Decoded sentence: Santé !\n",
            "\n",
            "-\n",
            "Input sentence: Cheers!\n",
            "Decoded sentence: Santé !\n",
            "\n",
            "-\n",
            "Input sentence: Get up.\n",
            "Decoded sentence: Lève-toi.\n",
            "\n",
            "-\n",
            "Input sentence: Go now.\n",
            "Decoded sentence: Vas-y maintenant.\n",
            "\n",
            "-\n",
            "Input sentence: Go now.\n",
            "Decoded sentence: Vas-y maintenant.\n",
            "\n",
            "-\n",
            "Input sentence: Go now.\n",
            "Decoded sentence: Vas-y maintenant.\n",
            "\n",
            "-\n",
            "Input sentence: Got it!\n",
            "Decoded sentence: Compris !\n",
            "\n",
            "-\n",
            "Input sentence: Got it!\n",
            "Decoded sentence: Compris !\n",
            "\n",
            "-\n",
            "Input sentence: Got it?\n",
            "Decoded sentence: T'as capté ?\n",
            "\n",
            "-\n",
            "Input sentence: Got it?\n",
            "Decoded sentence: T'as capté ?\n",
            "\n",
            "-\n",
            "Input sentence: Got it?\n",
            "Decoded sentence: T'as capté ?\n",
            "\n",
            "-\n",
            "Input sentence: Hop in.\n",
            "Decoded sentence: Montez.\n",
            "\n",
            "-\n",
            "Input sentence: Hop in.\n",
            "Decoded sentence: Montez.\n",
            "\n",
            "-\n",
            "Input sentence: Hug me.\n",
            "Decoded sentence: Serrez-moi dans vos bras !\n",
            "\n",
            "-\n",
            "Input sentence: Hug me.\n",
            "Decoded sentence: Serrez-moi dans vos bras !\n",
            "\n",
            "-\n",
            "Input sentence: I fell.\n",
            "Decoded sentence: Je suis tombé.\n",
            "\n",
            "-\n",
            "Input sentence: I fell.\n",
            "Decoded sentence: Je suis tombé.\n",
            "\n",
            "-\n",
            "Input sentence: I know.\n",
            "Decoded sentence: Je le sais.\n",
            "\n",
            "-\n",
            "Input sentence: I left.\n",
            "Decoded sentence: Je suis partie.\n",
            "\n",
            "-\n",
            "Input sentence: I left.\n",
            "Decoded sentence: Je suis partie.\n",
            "\n",
            "-\n",
            "Input sentence: I lost.\n",
            "Decoded sentence: J'ai perdu le contrôle.\n",
            "\n",
            "-\n",
            "Input sentence: I'm 19.\n",
            "Decoded sentence: Je suis chanteur.\n",
            "\n",
            "-\n",
            "Input sentence: I'm OK.\n",
            "Decoded sentence: Je suis en train de perdre.\n",
            "\n",
            "-\n",
            "Input sentence: I'm OK.\n",
            "Decoded sentence: Je suis en train de perdre.\n",
            "\n",
            "-\n",
            "Input sentence: Listen.\n",
            "Decoded sentence: Écoutez !\n",
            "\n",
            "-\n",
            "Input sentence: No way!\n",
            "Decoded sentence: En aucune manière !\n",
            "\n",
            "-\n",
            "Input sentence: No way!\n",
            "Decoded sentence: En aucune manière !\n",
            "\n",
            "-\n",
            "Input sentence: No way!\n",
            "Decoded sentence: En aucune manière !\n",
            "\n",
            "-\n",
            "Input sentence: No way!\n",
            "Decoded sentence: En aucune manière !\n",
            "\n",
            "-\n",
            "Input sentence: No way!\n",
            "Decoded sentence: En aucune manière !\n",
            "\n",
            "-\n",
            "Input sentence: No way!\n",
            "Decoded sentence: En aucune manière !\n",
            "\n",
            "-\n",
            "Input sentence: No way!\n",
            "Decoded sentence: En aucune manière !\n",
            "\n",
            "-\n",
            "Input sentence: No way!\n",
            "Decoded sentence: En aucune manière !\n",
            "\n",
            "-\n",
            "Input sentence: No way!\n",
            "Decoded sentence: En aucune manière !\n",
            "\n",
            "-\n",
            "Input sentence: Really?\n",
            "Decoded sentence: Vraiment ?\n",
            "\n",
            "-\n",
            "Input sentence: Really?\n",
            "Decoded sentence: Vraiment ?\n",
            "\n",
            "-\n",
            "Input sentence: Really?\n",
            "Decoded sentence: Vraiment ?\n",
            "\n",
            "-\n",
            "Input sentence: Thanks.\n",
            "Decoded sentence: Merci !\n",
            "\n",
            "-\n",
            "Input sentence: We try.\n",
            "Decoded sentence: On essaye.\n",
            "\n",
            "-\n",
            "Input sentence: We won.\n",
            "Decoded sentence: Nous l'avons emporté.\n",
            "\n",
            "-\n",
            "Input sentence: We won.\n",
            "Decoded sentence: Nous l'avons emporté.\n",
            "\n",
            "-\n",
            "Input sentence: We won.\n",
            "Decoded sentence: Nous l'avons emporté.\n",
            "\n",
            "-\n",
            "Input sentence: We won.\n",
            "Decoded sentence: Nous l'avons emporté.\n",
            "\n",
            "-\n",
            "Input sentence: Ask Tom.\n",
            "Decoded sentence: Demande à Tom.\n",
            "\n",
            "-\n",
            "Input sentence: Awesome!\n",
            "Decoded sentence: Fantastique !\n",
            "\n",
            "-\n",
            "Input sentence: Be calm.\n",
            "Decoded sentence: Soyez calmes !\n",
            "\n",
            "-\n",
            "Input sentence: Be calm.\n",
            "Decoded sentence: Soyez calmes !\n",
            "\n",
            "-\n",
            "Input sentence: Be calm.\n",
            "Decoded sentence: Soyez calmes !\n",
            "\n",
            "-\n",
            "Input sentence: Be cool.\n",
            "Decoded sentence: Sois détendu !\n",
            "\n",
            "-\n",
            "Input sentence: Be fair.\n",
            "Decoded sentence: Soyez juste !\n",
            "\n",
            "-\n",
            "Input sentence: Be fair.\n",
            "Decoded sentence: Soyez juste !\n",
            "\n",
            "-\n",
            "Input sentence: Be fair.\n",
            "Decoded sentence: Soyez juste !\n",
            "\n",
            "-\n",
            "Input sentence: Be fair.\n",
            "Decoded sentence: Soyez juste !\n",
            "\n",
            "-\n",
            "Input sentence: Be fair.\n",
            "Decoded sentence: Soyez juste !\n",
            "\n",
            "-\n",
            "Input sentence: Be fair.\n",
            "Decoded sentence: Soyez juste !\n",
            "\n",
            "-\n",
            "Input sentence: Be kind.\n",
            "Decoded sentence: Sois gentil.\n",
            "\n",
            "-\n",
            "Input sentence: Be nice.\n",
            "Decoded sentence: Soyez gentilles !\n",
            "\n",
            "-\n",
            "Input sentence: Be nice.\n",
            "Decoded sentence: Soyez gentilles !\n",
            "\n",
            "-\n",
            "Input sentence: Be nice.\n",
            "Decoded sentence: Soyez gentilles !\n",
            "\n",
            "-\n",
            "Input sentence: Be nice.\n",
            "Decoded sentence: Soyez gentilles !\n",
            "\n",
            "-\n",
            "Input sentence: Be nice.\n",
            "Decoded sentence: Soyez gentilles !\n",
            "\n",
            "-\n",
            "Input sentence: Be nice.\n",
            "Decoded sentence: Soyez gentilles !\n",
            "\n",
            "-\n",
            "Input sentence: Beat it.\n",
            "Decoded sentence: Dégage !\n",
            "\n",
            "-\n",
            "Input sentence: Call me.\n",
            "Decoded sentence: Appelle-moi !\n",
            "\n",
            "-\n",
            "Input sentence: Call me.\n",
            "Decoded sentence: Appelle-moi !\n",
            "\n",
            "-\n",
            "Input sentence: Call us.\n",
            "Decoded sentence: Appelle-nous !\n",
            "\n",
            "-\n",
            "Input sentence: Call us.\n",
            "Decoded sentence: Appelle-nous !\n",
            "\n",
            "-\n",
            "Input sentence: Come in.\n",
            "Decoded sentence: Entrez !\n",
            "\n",
            "-\n",
            "Input sentence: Come in.\n",
            "Decoded sentence: Entrez !\n",
            "\n",
            "-\n",
            "Input sentence: Come in.\n",
            "Decoded sentence: Entrez !\n",
            "\n",
            "-\n",
            "Input sentence: Come in.\n",
            "Decoded sentence: Entrez !\n",
            "\n",
            "-\n",
            "Input sentence: Come on!\n",
            "Decoded sentence: Allez !\n",
            "\n",
            "-\n",
            "Input sentence: Come on.\n",
            "Decoded sentence: Viens !\n",
            "\n"
          ],
          "name": "stdout"
        }
      ]
    }
  ]
}